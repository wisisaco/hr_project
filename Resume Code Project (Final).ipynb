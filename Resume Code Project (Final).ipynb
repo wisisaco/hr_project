{
  "cells": [
    {
      "metadata": {},
      "cell_type": "markdown",
      "source": "# Human Resources Department Attrition Analysis\n<span style=color:gray> **In this analysis, we explore the data given to us to help understand the current attrition rate of the company. Certain factors like (Age, Gender, Monthly Income, Over Time Work and a few more) will be looked at to help determine what the main cause of turnover for employees. At the end, we hope to have analyzed the situation and dataset thoroughly and be able to submit the best recommendation to remedy the concern.** </span>"
    },
    {
      "metadata": {},
      "cell_type": "markdown",
      "source": "<span style=color:green> <font size=\"4\"> **The code below shows how to load the appropriate libraries where packages can be pulled from and create data.** </span> </font>"
    },
    {
      "metadata": {
        "trusted": true
      },
      "cell_type": "code",
      "source": "shh <- suppressPackageStartupMessages\nshh(library(ggplot2))\nshh(library(caret))\nshh(library(rpart))\nshh(library(\"randomForest\"))\ninstall.packages('ggcorrplot')\nshh (library(ggcorrplot))\nshh (library(pROC))\ninstall.packages('pROC')\n\n# Set standard dimensions for plots.\noptions(repr.plot.width=4, repr.plot.height=3)",
      "execution_count": null,
      "outputs": [
        {
          "output_type": "stream",
          "text": "Installing package into ‘/home/nbuser/R’\n(as ‘lib’ is unspecified)\n",
          "name": "stderr"
        }
      ]
    },
    {
      "metadata": {},
      "cell_type": "markdown",
      "source": "<span style=color:green> <font size=\"4\"> **This code allows us to import data from a csv file where all data are coming from.** </span> </font>"
    },
    {
      "metadata": {
        "trusted": true
      },
      "cell_type": "code",
      "source": "hr_data <- read.csv('https://bit.ly/2VTrfPs')",
      "execution_count": null,
      "outputs": []
    },
    {
      "metadata": {},
      "cell_type": "markdown",
      "source": "<font size=\"5\"> **The next four data sets you will see allows you to gain basic knowledge about the the Company's Attrition Rate and the variables that dictate it.** </font>"
    },
    {
      "metadata": {},
      "cell_type": "markdown",
      "source": "<span style=color:green> <font size=\"4\"> **The code below calculates the dimensions of the dataset.** </span> </font>"
    },
    {
      "metadata": {
        "trusted": true
      },
      "cell_type": "code",
      "source": "dim(hr_data)",
      "execution_count": null,
      "outputs": []
    },
    {
      "metadata": {},
      "cell_type": "markdown",
      "source": "<span style=color:green> <font size=\"4\"> **Preview of the first few records in the dataset.** </span> </font>"
    },
    {
      "metadata": {
        "trusted": true
      },
      "cell_type": "code",
      "source": "head(hr_data)",
      "execution_count": null,
      "outputs": []
    },
    {
      "metadata": {},
      "cell_type": "markdown",
      "source": "<span style=color:green> <font size=\"4\"> **List and describe each of the fields in the dataset.** </span> </font>"
    },
    {
      "metadata": {
        "trusted": true
      },
      "cell_type": "code",
      "source": "str(hr_data)",
      "execution_count": null,
      "outputs": []
    },
    {
      "metadata": {},
      "cell_type": "markdown",
      "source": "<span style=color:green> <font size=\"4\"> **Calculated descriptive stats for each of the fields in the dataset.** </span> </font>"
    },
    {
      "metadata": {
        "trusted": true
      },
      "cell_type": "code",
      "source": "summary(hr_data)",
      "execution_count": null,
      "outputs": []
    },
    {
      "metadata": {},
      "cell_type": "markdown",
      "source": "<span style=color:green> <font size=\"5\"> **As we explore the possible reasons for the cause of Attrition, I  have lister five questions below that can help evaluate that data we have and see which factors cause employees to transfer work.** </span> </font>"
    },
    {
      "metadata": {},
      "cell_type": "markdown",
      "source": "<span style=color:red> <font size=\"4\"> **1. Does one gender tend to quit more frequently than the other?** </font> </span>"
    },
    {
      "metadata": {
        "trusted": true
      },
      "cell_type": "code",
      "source": "ggplot(hr_data,aes(x=Gender , fill = factor(Attrition))) + \n    geom_bar(position= \"fill\") + xlab(\"Gender\") + ylab(\"Attrition\") +\nscale_fill_manual(values = c(\"grey\", \"red\"), name = \"Turnover Rate\", labels = c(\"Stayed\", \"Left\"))",
      "execution_count": null,
      "outputs": []
    },
    {
      "metadata": {},
      "cell_type": "markdown",
      "source": "<span style=color:green> <font size=\"4\"> The bar chart above depicts the number of turnover the company had within each gender against how much emlpoyees they have.\nMore male employees seem to churn and transfer work than female ones. </span> </font>"
    },
    {
      "metadata": {
        "trusted": true
      },
      "cell_type": "code",
      "source": "ggplot(hr_data, aes(x=Gender, y=Attrition)) + \n    geom_line() + (aes(color = Gender))",
      "execution_count": null,
      "outputs": []
    },
    {
      "metadata": {},
      "cell_type": "markdown",
      "source": "<span style=color:green> <font size=\"4\"> An additional line chart was made to emphasize the situation. </span> </font>"
    },
    {
      "metadata": {},
      "cell_type": "markdown",
      "source": "<span style=color:red> <font size=\"4\"> **2. Does age appear to make a difference? Are our younger workers less committed to our company?** </font> </span>"
    },
    {
      "metadata": {
        "trusted": true
      },
      "cell_type": "code",
      "source": "ggplot(hr_data,aes(x=Age, fill = factor(Attrition))) +\n    geom_density(position= \"fill\") + scale_fill_manual(values = c(\"yellow\", \"green\"), name = \"Turnover Rate\", labels = c(\"Stayed\", \"Left\"))",
      "execution_count": null,
      "outputs": []
    },
    {
      "metadata": {},
      "cell_type": "markdown",
      "source": "<span style=color:green> <font size=\"4\"> From the density chart above, it looks like that the younger generation (millennials and generation Z) have the tendency to transfer work more than the older generation. </span> </font>"
    },
    {
      "metadata": {},
      "cell_type": "markdown",
      "source": "<span style=color:red> <font size=\"4\"> **3. Are we working our employees too hard? Is our overtime requirement for some employees driving them away?** </font> </span>"
    },
    {
      "metadata": {
        "trusted": true
      },
      "cell_type": "code",
      "source": "ggplot(hr_data,aes(OverTime,fill=factor(Attrition))) +\n    geom_bar() + xlab(\"OverTime\") + ylab(\"Attrition\") +\nscale_fill_manual(values = c(\"lightblue\", \"purple\"), name = \"Turnover Rate\", labels = c(\"Stayed\", \"Left\"))",
      "execution_count": null,
      "outputs": []
    },
    {
      "metadata": {},
      "cell_type": "markdown",
      "source": "<span style=color:green> <font size=\"4\"> The bar chart shows you that even though there are fewer people who does overtime for the company, the turnover rate is still higher for them, compared to the people who don't do overtime. </span> </font>"
    },
    {
      "metadata": {
        "trusted": true
      },
      "cell_type": "code",
      "source": "ggplot(hr_data, aes(x=OverTime, y=Attrition)) + \n    geom_line() + (aes(color = OverTime)) +\nscale_fill_manual(values = c(\"lightblue\", \"purple\"), name = \"Turnover Rate\", labels = c(\"Stayed\", \"Left\"))",
      "execution_count": null,
      "outputs": []
    },
    {
      "metadata": {},
      "cell_type": "markdown",
      "source": "<span style=color:red> <font size=\"4\"> **4. Our concern is that the highest performing employees are leaving at a higher rate. Is that true?** </font> </span>"
    },
    {
      "metadata": {
        "trusted": true
      },
      "cell_type": "code",
      "source": "ggplot(hr_data,aes(Attrition,PerformanceRating)) + geom_jitter()+ ylab(\"PerformanceRating\")+ xlab(\"Attrition\")",
      "execution_count": null,
      "outputs": []
    },
    {
      "metadata": {},
      "cell_type": "markdown",
      "source": "<span style=color:green> <font size=\"4\"> According to the scatterplot above, you'll be happy to know that although there is a attrition in the company, we are able to retain people who have a high performance rating for the most part. </span> </font>"
    },
    {
      "metadata": {},
      "cell_type": "markdown",
      "source": "<span style=color:red> <font size=\"4\"> **5. Is this about money? Are we not paying employees enough? Were the raises not strong enough? Is that why they leave?** </font> </span>"
    },
    {
      "metadata": {
        "trusted": true
      },
      "cell_type": "code",
      "source": "ggplot(hr_data, aes(x = MonthlyIncome, fill = Attrition)) + \n    geom_dotplot() + (aes(color = Gender))",
      "execution_count": null,
      "outputs": []
    },
    {
      "metadata": {},
      "cell_type": "markdown",
      "source": "<span style=color:green> <font size=\"4\"> You will see from the dotplot above that the employees who receive lower wages tend to leave the company more so than the ones with a higher pay. </span> </font>"
    },
    {
      "metadata": {},
      "cell_type": "markdown",
      "source": "<span style=color:red> <font size=\"5\"> **The next data sets are an attempt to predict and split data to come to a more accurate result for the best recommendation.** </span> </font>"
    },
    {
      "metadata": {},
      "cell_type": "markdown",
      "source": "<span style=color:green> <font size=\"4\"> **This code below evaluates whether or not there are missing/null values and addresses those, if they exist.** </span> </font>"
    },
    {
      "metadata": {
        "trusted": true
      },
      "cell_type": "code",
      "source": "sum(is.na(hr_data))",
      "execution_count": null,
      "outputs": []
    },
    {
      "metadata": {
        "trusted": true
      },
      "cell_type": "code",
      "source": "cor <- cor(hr_data[c(1,3,8,12:25)])\n\noptions(repr.plot.width=7, repr.plot.height=5)\nggcorrplot(cor)",
      "execution_count": null,
      "outputs": []
    },
    {
      "metadata": {},
      "cell_type": "markdown",
      "source": "<span style=color:green> <font size=\"4\"> **This code splits the data into training and test sets (using a set seed of \"3456\".** </span> </font>"
    },
    {
      "metadata": {
        "trusted": true
      },
      "cell_type": "code",
      "source": "# Allows to set the random number generator to the same.\nset.seed(3456)  \ntrainIndex <- createDataPartition(hr_data$Attrition, p = .8, list = FALSE, times = 1)\nhr_train <- hr_data[ trainIndex,] \nhr_test <- hr_data[-trainIndex,]",
      "execution_count": null,
      "outputs": []
    },
    {
      "metadata": {},
      "cell_type": "markdown",
      "source": "<span style=color:green> <font size=\"4\"> **This code uses logistic regression to create your prediction model.** </span> </font>"
    },
    {
      "metadata": {
        "trusted": true
      },
      "cell_type": "code",
      "source": "# Try to build a regression model with all variables.\nhr_train_model <- glm (Attrition ~ Age + Gender + MaritalStatus + MonthlyIncome, \n                          data=hr_train, family=binomial)\n\nsummary(hr_train_model)",
      "execution_count": null,
      "outputs": []
    },
    {
      "metadata": {},
      "cell_type": "markdown",
      "source": "<span style=color:green> <font size=\"4\"> **This code creates a decision tree to help calculate the prediction model.** </span> </font>"
    },
    {
      "metadata": {
        "trusted": true
      },
      "cell_type": "code",
      "source": "hr_train_model <- rpart(Attrition~ Age + Gender + MonthlyIncome + OverTime + Department,\n        method=\"class\", data=hr_data)\n\nprint(hr_train_model)\nplotcp(hr_train_model)\n\n# create additional plots\npar(mfrow=c(1,2)) # two plots on one page\n\n# plot tree\nplot(hr_train_model, uniform=TRUE,\n   main=\"Attrition Rate\")\ntext(hr_train_model, use.n=TRUE, all=TRUE, cex=.2)",
      "execution_count": null,
      "outputs": []
    },
    {
      "metadata": {},
      "cell_type": "markdown",
      "source": "<span style=color:green> <font size=\"4\"> **This code assess the importance of each variable.** </span> </font>"
    },
    {
      "metadata": {
        "trusted": true,
        "scrolled": true
      },
      "cell_type": "code",
      "source": "varImp(hr_train_model)",
      "execution_count": null,
      "outputs": []
    },
    {
      "metadata": {
        "trusted": true
      },
      "cell_type": "code",
      "source": "# Evaluate variable importance\nvarImp(hr_train_model, scale=FALSE)\n\nimportance <- as.data.frame(varImp(hr_train_model))\nimportance <- data.frame(Importance = immportnace$Overall,\n                        Fiel = rownames(importance))\nimportance[order(-importance$Importance),]\n",
      "execution_count": null,
      "outputs": []
    },
    {
      "metadata": {},
      "cell_type": "markdown",
      "source": "<span style=color:green> <font size=\"4\"> **This code adds and populates the \"Attrition\" prediction in the test dataset.** </span> </font>"
    },
    {
      "metadata": {
        "trusted": true
      },
      "cell_type": "code",
      "source": "hr_test$Attrition_prediction <- predict(hr_train_model,newdata=hr_test,type='response')\nhead(hr_test)",
      "execution_count": null,
      "outputs": []
    },
    {
      "metadata": {},
      "cell_type": "markdown",
      "source": "<span style=color:green> <font size=\"4\"> **This code evaluates the performance of each method/model using the area under the ROC curve.** </span> </font>"
    },
    {
      "metadata": {
        "trusted": true
      },
      "cell_type": "code",
      "source": "ROC <- roc(hr_test$Attrition, hr_test$Attrition_prediction)\n\nplot(ROC)\n\nauc(ROC)",
      "execution_count": null,
      "outputs": []
    },
    {
      "metadata": {},
      "cell_type": "markdown",
      "source": "<span style=color:green> <font size=\"4\"> **This code writes the \"Attrition\" predictions to a new file that can be downloaded and used for study and review.** </span> </font>"
    },
    {
      "metadata": {
        "trusted": true
      },
      "cell_type": "code",
      "source": "hr_test_abbreviated <- hr_test[,c(1,2,26)]\nhead(hr_test_abbreviated)\nwrite.csv(hr_test, \"Attrition_test_predictions1.csv\", row.names=FALSE)",
      "execution_count": null,
      "outputs": []
    },
    {
      "metadata": {},
      "cell_type": "markdown",
      "source": "<span style=color:red> <font size=\"6\"> **RECOMMENDATION FOR MINIMIZING CURRENT RATE OF ATTRITION** </span> </font>"
    },
    {
      "metadata": {},
      "cell_type": "markdown",
      "source": "# Attrition Rate Hypothesis"
    },
    {
      "metadata": {},
      "cell_type": "markdown",
      "source": "<span style=color:black> After reviewing and analyzing the given data above, factors that contribute to a company's employee decision of leaving are: low-income pay, possible workload overload, a classification for the younger generation and low-performance ratings. Dissatisfaction over job responsibilities, salary or even work-environment can be major variables that can push one out the door. Especially for your millennials who the The Wall Street Journal described as a generation who seeks the \"biggest gains in Happiness with Pay.\" </span>\n\nLink for Article: https://l.facebook.com/l.php?u=https%3A%2F%2Fwww.wsj.com%2Farticles%2Fyounger-workers-report-biggest-gains-in-happiness-with-pay-11567071000%3Ffbclid%3DIwAR1OviZuLCtKBXJ5x3dnlNVTzxtQBj_hPmb2EPhIsJ5316mOunx_sG5DdwA&h=AT0veMbvwpBGMxp_cbaqGtp2dN2dNEvI93p5Jnd2rRApQclJrsgdvT5MWJSVRDopM6QK8d3rXJPx1PHUMmZjC7NRIHVsIpbGK4tNTjItfwxdWz3NI0MgSt2WgzrTBXBsgd-bTg"
    },
    {
      "metadata": {},
      "cell_type": "markdown",
      "source": "# Recommendation"
    },
    {
      "metadata": {},
      "cell_type": "markdown",
      "source": " My personal recommendation is to revamp the compensation and benefits package of the company to a more competitive stand point if it can withstand the costs. According to Maslow's Hierarchy of Needs quotes by simplypsychology.org, \"Our most basic need is for physical survival, and this will be the first thing that motivates our behavior. Once that level is fulfilled the next level up is what motivates us, and so on.\" People seek to increase their abilities to provide for their family's basic needs. Another recommendation is to create campaign or activities within the company that can help foster employee engagement and help them be engaged in the workplace and in their duties. This will decrease the possibility of burning out and will increase motivation to do better everyday."
    }
  ],
  "metadata": {
    "kernelspec": {
      "name": "r",
      "display_name": "R",
      "language": "R"
    },
    "language_info": {
      "mimetype": "text/x-r-source",
      "name": "R",
      "pygments_lexer": "r",
      "version": "3.5.3",
      "file_extension": ".r",
      "codemirror_mode": "r"
    }
  },
  "nbformat": 4,
  "nbformat_minor": 2
}